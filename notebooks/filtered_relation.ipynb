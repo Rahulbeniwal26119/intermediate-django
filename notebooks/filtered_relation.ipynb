{
 "cells": [
  {
   "cell_type": "code",
   "execution_count": null,
   "metadata": {},
   "outputs": [],
   "source": [
    "import os\n",
    "import sys\n",
    "import django\n",
    "\n",
    "sys.path.append(\n",
    "os.path.dirname(os.getcwd()))\n",
    "os.environ.setdefault(\"DJANGO_SETTINGS_MODULE\", \"advance_django.settings\")\n",
    "os.environ[\"DJANGO_ALLOW_ASYNC_UNSAFE\"] = \"True\"\n",
    "django.setup()"
   ]
  },
  {
   "cell_type": "code",
   "execution_count": 8,
   "metadata": {},
   "outputs": [],
   "source": [
    "from orm.models import Author, Book, Review\n",
    "\n",
    "a1 = Author.objects.create(name=\"User 1\")\n",
    "a2 = Author.objects.create(name=\"User 2\")\n",
    "\n",
    "b1 = Book.objects.create(author=a1, title=\"Hello World\")\n",
    "b2 = Book.objects.create(author=a2, title=\"Nemesis\")\n",
    "\n",
    "r1 = Review.objects.create(book=b1, rating=3, comment=\"Nice One\")\n",
    "r2 = Review.objects.create(book=b2, rating=5, comment=\"Great One\")\n",
    "\n",
    "\n"
   ]
  },
  {
   "cell_type": "code",
   "execution_count": 44,
   "metadata": {},
   "outputs": [],
   "source": [
    "from django.db.models import FilteredRelation, Q, Count, F\n",
    "\n",
    "books_with_high_rated_views = (\n",
    "    Book.objects.annotate(\n",
    "        high_review_books=FilteredRelation(\"review\", condition=Q(review__rating__gte=5))\n",
    "    )\n",
    "    .filter(high_review_books__isnull=False)\n",
    "    .values(\"title\", book_review=F(\"high_review_books__rating\"))\n",
    ")"
   ]
  },
  {
   "cell_type": "code",
   "execution_count": 69,
   "metadata": {},
   "outputs": [
    {
     "name": "stdout",
     "output_type": "stream",
     "text": [
      "<QuerySet [{'title': 'Hello World', 'high_rated_reviews__rating': None, 'low_rated_reviews__rating': 3}, {'title': 'Nemesis', 'high_rated_reviews__rating': 5, 'low_rated_reviews__rating': None}]>\n"
     ]
    }
   ],
   "source": [
    "result = (\n",
    "    Book.objects.annotate(\n",
    "        high_rated_reviews=FilteredRelation(\n",
    "            \"review\", condition=Q(review__rating__gte=4)\n",
    "        ),\n",
    "        low_rated_reviews=FilteredRelation(\n",
    "            \"review\", condition=Q(review__rating__lt=4)\n",
    "        ),\n",
    "    )\n",
    "    .filter(Q(high_rated_reviews__isnull=False) | Q(low_rated_reviews__isnull=False))\n",
    "    .values(\"title\", \"high_rated_reviews__rating\", \"low_rated_reviews__rating\")\n",
    ")\n",
    "print(result)"
   ]
  },
  {
   "cell_type": "code",
   "execution_count": 60,
   "metadata": {},
   "outputs": [
    {
     "data": {
      "text/plain": [
       "'SELECT \"orm_book\".\"title\", COUNT(high_rated_reviews.\"id\") AS \"high_review_count\" FROM \"orm_book\" INNER JOIN \"orm_review\" high_rated_reviews ON (\"orm_book\".\"id\" = high_rated_reviews.\"book_id\" AND (high_rated_reviews.\"rating\" >= 4)) WHERE high_rated_reviews.\"id\" IS NOT NULL GROUP BY \"orm_book\".\"id\", \"orm_book\".\"title\", \"orm_book\".\"author_id\"'"
      ]
     },
     "execution_count": 60,
     "metadata": {},
     "output_type": "execute_result"
    }
   ],
   "source": [
    "result.query.__str__()"
   ]
  },
  {
   "cell_type": "code",
   "execution_count": 45,
   "metadata": {},
   "outputs": [
    {
     "data": {
      "text/plain": [
       "<QuerySet [{'title': 'Nemesis', 'book_review': 5}]>"
      ]
     },
     "execution_count": 45,
     "metadata": {},
     "output_type": "execute_result"
    }
   ],
   "source": [
    "books_with_high_rated_views"
   ]
  },
  {
   "cell_type": "code",
   "execution_count": 46,
   "metadata": {},
   "outputs": [
    {
     "data": {
      "text/plain": [
       "'SELECT \"orm_book\".\"title\", high_review_books.\"rating\" AS \"book_review\" FROM \"orm_book\" INNER JOIN \"orm_review\" high_review_books ON (\"orm_book\".\"id\" = high_review_books.\"book_id\" AND (high_review_books.\"rating\" >= 5)) WHERE high_review_books.\"id\" IS NOT NULL'"
      ]
     },
     "execution_count": 46,
     "metadata": {},
     "output_type": "execute_result"
    }
   ],
   "source": [
    "books_with_high_rated_views.query.__str__()"
   ]
  },
  {
   "cell_type": "code",
   "execution_count": null,
   "metadata": {},
   "outputs": [],
   "source": []
  }
 ],
 "metadata": {
  "kernelspec": {
   "display_name": ".venv",
   "language": "python",
   "name": "python3"
  },
  "language_info": {
   "codemirror_mode": {
    "name": "ipython",
    "version": 3
   },
   "file_extension": ".py",
   "mimetype": "text/x-python",
   "name": "python",
   "nbconvert_exporter": "python",
   "pygments_lexer": "ipython3",
   "version": "3.10.14"
  }
 },
 "nbformat": 4,
 "nbformat_minor": 2
}
