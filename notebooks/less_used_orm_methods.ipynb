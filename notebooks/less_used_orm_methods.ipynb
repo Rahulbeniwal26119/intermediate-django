{
 "cells": [
  {
   "cell_type": "code",
   "execution_count": 1,
   "metadata": {},
   "outputs": [],
   "source": [
    "import os\n",
    "import sys\n",
    "import django\n",
    "\n",
    "sys.path.append(\n",
    "os.path.dirname(os.getcwd()))\n",
    "os.environ.setdefault(\"DJANGO_SETTINGS_MODULE\", \"advance_django.settings\")\n",
    "os.environ[\"DJANGO_ALLOW_ASYNC_UNSAFE\"] = \"True\"\n",
    "django.setup()"
   ]
  },
  {
   "cell_type": "code",
   "execution_count": null,
   "metadata": {},
   "outputs": [],
   "source": [
    "from django.db import models\n",
    "\n",
    "\n",
    "class Author(models.Model):\n",
    "    name = models.CharField(max_length=100)\n",
    "\n",
    "\n",
    "class Book(models.Model):\n",
    "    title = models.CharField(max_length=100)\n",
    "    author = models.ForeignKey(Author, on_delete=models.CASCADE)\n",
    "\n",
    "\n",
    "class Review(models.Model):\n",
    "    book = models.ForeignKey(Book, on_delete=models.CASCADE)\n",
    "    rating = models.IntegerField()  # rating out of 5\n",
    "    comment = models.TextField()"
   ]
  },
  {
   "cell_type": "markdown",
   "metadata": {},
   "source": [
    "## Imports"
   ]
  },
  {
   "cell_type": "code",
   "execution_count": 5,
   "metadata": {},
   "outputs": [],
   "source": [
    "from orm.models import Author, Book, Review\n",
    "from django.db.models import F\n",
    "from django.db.models.functions import Upper"
   ]
  },
  {
   "cell_type": "markdown",
   "metadata": {},
   "source": [
    "## Data Population"
   ]
  },
  {
   "cell_type": "code",
   "execution_count": null,
   "metadata": {},
   "outputs": [],
   "source": [
    "\n",
    "a1 = Author.objects.create(name=\"User 1\")\n",
    "a2 = Author.objects.create(name=\"User 2\")\n",
    "\n",
    "b1 = Book.objects.create(author=a1, title=\"Hello World\")\n",
    "b2 = Book.objects.create(author=a2, title=\"Nemesis\")\n",
    "\n",
    "r1 = Review.objects.create(book=b1, rating=3, comment=\"Nice One\")\n",
    "r2 = Review.objects.create(book=b2, rating=5, comment=\"Great One\")\n"
   ]
  },
  {
   "cell_type": "markdown",
   "metadata": {},
   "source": [
    "## alias\n",
    "\n",
    "### aliased field cann't be used in values.We need annotate for that"
   ]
  },
  {
   "cell_type": "code",
   "execution_count": null,
   "metadata": {},
   "outputs": [
    {
     "name": "stdout",
     "output_type": "stream",
     "text": [
      "<QuerySet [{'name': 'User 1'}]>\n"
     ]
    }
   ],
   "source": [
    "qs = (\n",
    "    Author.objects.alias(author_name_upper_case=Upper(\"name\"))\n",
    "    .filter(author_name_upper_case=\"USER 1\")\n",
    "    .values(\"name\")\n",
    ")\n",
    "print(qs)"
   ]
  },
  {
   "cell_type": "markdown",
   "metadata": {},
   "source": [
    "## extra"
   ]
  },
  {
   "cell_type": "code",
   "execution_count": null,
   "metadata": {},
   "outputs": [
    {
     "name": "stdout",
     "output_type": "stream",
     "text": [
      "<QuerySet [{'name': 'User 1'}, {'name': 'User 2'}]>\n"
     ]
    }
   ],
   "source": [
    "qs = Author.objects.extra(\n",
    "    select={\"author_name_upper_case\": \"SELECT UPPER(name)\"}\n",
    ").values(\"author_name_upper_case\")\n",
    "print(qs)"
   ]
  },
  {
   "cell_type": "markdown",
   "metadata": {},
   "source": [
    "## select_for_update"
   ]
  },
  {
   "cell_type": "code",
   "execution_count": 16,
   "metadata": {},
   "outputs": [
    {
     "name": "stdout",
     "output_type": "stream",
     "text": [
      "<QuerySet [{'name': 'User 1'}, {'name': 'User 2'}]>\n"
     ]
    }
   ],
   "source": [
    "qs = Author.objects.select_for_update().values(\"name\")\n",
    "print(qs)"
   ]
  },
  {
   "cell_type": "markdown",
   "metadata": {},
   "source": [
    "## defer and only\n",
    "\n",
    "### only pick those columns which you need instead of bulkly all result"
   ]
  },
  {
   "cell_type": "code",
   "execution_count": null,
   "metadata": {},
   "outputs": [
    {
     "name": "stdout",
     "output_type": "stream",
     "text": [
      "3\n",
      "5\n",
      "Nice One\n",
      "Great One\n"
     ]
    }
   ],
   "source": [
    "a1 = Review.objects.defer(\"comment\").first()\n",
    "a2 = Review.objects.only(\"rating\").last()\n",
    "\n",
    "print(a1.rating)\n",
    "print(a2.rating)\n",
    "\n",
    "# RESULT IN NEW SQL QUERIES\n",
    "print(a1.comment)\n",
    "print(a2.comment)"
   ]
  },
  {
   "cell_type": "markdown",
   "metadata": {},
   "source": [
    "## in_bulk"
   ]
  },
  {
   "cell_type": "code",
   "execution_count": 20,
   "metadata": {},
   "outputs": [
    {
     "name": "stdout",
     "output_type": "stream",
     "text": [
      "{1: <Author: Author object (1)>, 2: <Author: Author object (2)>}\n"
     ]
    }
   ],
   "source": [
    "result = Author.objects.in_bulk([1, 2])\n",
    "print(result)"
   ]
  },
  {
   "cell_type": "markdown",
   "metadata": {},
   "source": [
    "## iterator"
   ]
  },
  {
   "cell_type": "code",
   "execution_count": 21,
   "metadata": {},
   "outputs": [
    {
     "name": "stdout",
     "output_type": "stream",
     "text": [
      "User 1\n",
      "User 2\n"
     ]
    }
   ],
   "source": [
    "result = Author.objects.iterator()\n",
    "\n",
    "for author in result:\n",
    "    print(author.name)"
   ]
  },
  {
   "cell_type": "markdown",
   "metadata": {},
   "source": [
    "## latest() and earliest()"
   ]
  },
  {
   "cell_type": "code",
   "execution_count": null,
   "metadata": {},
   "outputs": [],
   "source": [
    "# Assuming we have a 'published_date' field\n",
    "latest_post = Book.objects.latest('published_date')\n",
    "earliest_post = Book.objects.earliest('published_date')"
   ]
  },
  {
   "cell_type": "markdown",
   "metadata": {},
   "source": [
    "## exists()"
   ]
  },
  {
   "cell_type": "code",
   "execution_count": null,
   "metadata": {},
   "outputs": [
    {
     "name": "stdout",
     "output_type": "stream",
     "text": [
      "Such Author Exits\n"
     ]
    }
   ],
   "source": [
    "if Author.objects.filter(name__icontains=\"1\").exists():\n",
    "    print(\"Such Author Exits\")"
   ]
  },
  {
   "cell_type": "code",
   "execution_count": 32,
   "metadata": {},
   "outputs": [
    {
     "data": {
      "text/plain": [
       "'2 0 0 SCAN orm_review'"
      ]
     },
     "execution_count": 32,
     "metadata": {},
     "output_type": "execute_result"
    }
   ],
   "source": [
    "qs = Review.objects.all()\n",
    "qs.explain()"
   ]
  },
  {
   "cell_type": "code",
   "execution_count": null,
   "metadata": {},
   "outputs": [],
   "source": []
  }
 ],
 "metadata": {
  "kernelspec": {
   "display_name": ".venv",
   "language": "python",
   "name": "python3"
  },
  "language_info": {
   "codemirror_mode": {
    "name": "ipython",
    "version": 3
   },
   "file_extension": ".py",
   "mimetype": "text/x-python",
   "name": "python",
   "nbconvert_exporter": "python",
   "pygments_lexer": "ipython3",
   "version": "3.10.14"
  }
 },
 "nbformat": 4,
 "nbformat_minor": 2
}
